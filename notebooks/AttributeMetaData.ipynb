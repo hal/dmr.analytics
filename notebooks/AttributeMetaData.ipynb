{
 "metadata": {
  "name": ""
 },
 "nbformat": 3,
 "nbformat_minor": 0,
 "worksheets": [
  {
   "cells": [
    {
     "cell_type": "code",
     "collapsed": false,
     "input": [
      "import pandas as pd\n",
      "import numpy as np\n",
      "import matplotlib.pyplot as plt\n",
      "from IPython.display import HTML"
     ],
     "language": "python",
     "metadata": {},
     "outputs": [],
     "prompt_number": 118
    },
    {
     "cell_type": "code",
     "collapsed": false,
     "input": [
      "# some diplay options\n",
      "pd.set_option('display.max_colwidth', 500)\n",
      "pd.set_option('display.width', 1024)"
     ],
     "language": "python",
     "metadata": {},
     "outputs": [],
     "prompt_number": 119
    },
    {
     "cell_type": "markdown",
     "metadata": {},
     "source": [
      "## The (almost) complete data set"
     ]
    },
    {
     "cell_type": "code",
     "collapsed": false,
     "input": [
      "imported = pd.read_csv('../output/attributes-2014.07.08-11.10.21.csv', index_col=0)\n",
      "df = imported.sort(ascending=[0])\n",
      "df[:10]"
     ],
     "language": "python",
     "metadata": {},
     "outputs": [
      {
       "html": [
        "<div style=\"max-height:1000px;max-width:1500px;overflow:auto;\">\n",
        "<table border=\"1\" class=\"dataframe\">\n",
        "  <thead>\n",
        "    <tr style=\"text-align: right;\">\n",
        "      <th></th>\n",
        "      <th>name</th>\n",
        "      <th>type</th>\n",
        "      <th>storage</th>\n",
        "      <th>accessType</th>\n",
        "      <th>allowNull</th>\n",
        "      <th>hasDefault</th>\n",
        "      <th>hasAlternatives</th>\n",
        "      <th>hasAliases</th>\n",
        "      <th>isEnum</th>\n",
        "      <th>restartPolicy</th>\n",
        "    </tr>\n",
        "    <tr>\n",
        "      <th>address</th>\n",
        "      <th></th>\n",
        "      <th></th>\n",
        "      <th></th>\n",
        "      <th></th>\n",
        "      <th></th>\n",
        "      <th></th>\n",
        "      <th></th>\n",
        "      <th></th>\n",
        "      <th></th>\n",
        "      <th></th>\n",
        "    </tr>\n",
        "  </thead>\n",
        "  <tbody>\n",
        "    <tr>\n",
        "      <th>/</th>\n",
        "      <td>               namespaces</td>\n",
        "      <td> OBJECT</td>\n",
        "      <td> configuration</td>\n",
        "      <td>  read-only</td>\n",
        "      <td> False</td>\n",
        "      <td> False</td>\n",
        "      <td> False</td>\n",
        "      <td> False</td>\n",
        "      <td> False</td>\n",
        "      <td>     unknown</td>\n",
        "    </tr>\n",
        "    <tr>\n",
        "      <th>/</th>\n",
        "      <td> management-major-version</td>\n",
        "      <td>    INT</td>\n",
        "      <td> configuration</td>\n",
        "      <td>  read-only</td>\n",
        "      <td> False</td>\n",
        "      <td> False</td>\n",
        "      <td> False</td>\n",
        "      <td> False</td>\n",
        "      <td> False</td>\n",
        "      <td>     unknown</td>\n",
        "    </tr>\n",
        "    <tr>\n",
        "      <th>/</th>\n",
        "      <td>             running-mode</td>\n",
        "      <td> STRING</td>\n",
        "      <td>       runtime</td>\n",
        "      <td>  read-only</td>\n",
        "      <td> False</td>\n",
        "      <td> False</td>\n",
        "      <td> False</td>\n",
        "      <td> False</td>\n",
        "      <td>  True</td>\n",
        "      <td>     unknown</td>\n",
        "    </tr>\n",
        "    <tr>\n",
        "      <th>/</th>\n",
        "      <td>             product-name</td>\n",
        "      <td> STRING</td>\n",
        "      <td> configuration</td>\n",
        "      <td>  read-only</td>\n",
        "      <td>  True</td>\n",
        "      <td> False</td>\n",
        "      <td> False</td>\n",
        "      <td> False</td>\n",
        "      <td> False</td>\n",
        "      <td>     unknown</td>\n",
        "    </tr>\n",
        "    <tr>\n",
        "      <th>/</th>\n",
        "      <td>             server-state</td>\n",
        "      <td> STRING</td>\n",
        "      <td>       runtime</td>\n",
        "      <td>  read-only</td>\n",
        "      <td> False</td>\n",
        "      <td> False</td>\n",
        "      <td> False</td>\n",
        "      <td> False</td>\n",
        "      <td> False</td>\n",
        "      <td>     unknown</td>\n",
        "    </tr>\n",
        "    <tr>\n",
        "      <th>/</th>\n",
        "      <td>          release-version</td>\n",
        "      <td> STRING</td>\n",
        "      <td> configuration</td>\n",
        "      <td>  read-only</td>\n",
        "      <td> False</td>\n",
        "      <td> False</td>\n",
        "      <td> False</td>\n",
        "      <td> False</td>\n",
        "      <td> False</td>\n",
        "      <td>     unknown</td>\n",
        "    </tr>\n",
        "    <tr>\n",
        "      <th>/</th>\n",
        "      <td> management-micro-version</td>\n",
        "      <td>    INT</td>\n",
        "      <td> configuration</td>\n",
        "      <td>  read-only</td>\n",
        "      <td> False</td>\n",
        "      <td> False</td>\n",
        "      <td> False</td>\n",
        "      <td> False</td>\n",
        "      <td> False</td>\n",
        "      <td>     unknown</td>\n",
        "    </tr>\n",
        "    <tr>\n",
        "      <th>/</th>\n",
        "      <td>             process-type</td>\n",
        "      <td> STRING</td>\n",
        "      <td>       runtime</td>\n",
        "      <td>  read-only</td>\n",
        "      <td> False</td>\n",
        "      <td> False</td>\n",
        "      <td> False</td>\n",
        "      <td> False</td>\n",
        "      <td> False</td>\n",
        "      <td>     unknown</td>\n",
        "    </tr>\n",
        "    <tr>\n",
        "      <th>/</th>\n",
        "      <td>              launch-type</td>\n",
        "      <td> STRING</td>\n",
        "      <td>       runtime</td>\n",
        "      <td>  read-only</td>\n",
        "      <td> False</td>\n",
        "      <td> False</td>\n",
        "      <td> False</td>\n",
        "      <td> False</td>\n",
        "      <td>  True</td>\n",
        "      <td>     unknown</td>\n",
        "    </tr>\n",
        "    <tr>\n",
        "      <th>/</th>\n",
        "      <td>                     name</td>\n",
        "      <td> STRING</td>\n",
        "      <td> configuration</td>\n",
        "      <td> read-write</td>\n",
        "      <td>  True</td>\n",
        "      <td> False</td>\n",
        "      <td> False</td>\n",
        "      <td> False</td>\n",
        "      <td> False</td>\n",
        "      <td> no-services</td>\n",
        "    </tr>\n",
        "  </tbody>\n",
        "</table>\n",
        "<p>10 rows \u00d7 10 columns</p>\n",
        "</div>"
       ],
       "metadata": {},
       "output_type": "pyout",
       "prompt_number": 120,
       "text": [
        "                             name    type        storage  accessType allowNull hasDefault hasAlternatives hasAliases isEnum restartPolicy\n",
        "address                                                                                                                                  \n",
        "/                      namespaces  OBJECT  configuration   read-only     False      False           False      False  False       unknown\n",
        "/        management-major-version     INT  configuration   read-only     False      False           False      False  False       unknown\n",
        "/                    running-mode  STRING        runtime   read-only     False      False           False      False   True       unknown\n",
        "/                    product-name  STRING  configuration   read-only      True      False           False      False  False       unknown\n",
        "/                    server-state  STRING        runtime   read-only     False      False           False      False  False       unknown\n",
        "/                 release-version  STRING  configuration   read-only     False      False           False      False  False       unknown\n",
        "/        management-micro-version     INT  configuration   read-only     False      False           False      False  False       unknown\n",
        "/                    process-type  STRING        runtime   read-only     False      False           False      False  False       unknown\n",
        "/                     launch-type  STRING        runtime   read-only     False      False           False      False   True       unknown\n",
        "/                            name  STRING  configuration  read-write      True      False           False      False  False   no-services\n",
        "\n",
        "[10 rows x 10 columns]"
       ]
      }
     ],
     "prompt_number": 120
    },
    {
     "cell_type": "code",
     "collapsed": false,
     "input": [
      "total = df['name'].count()\n",
      "h = HTML(\"<h2>Showing 10 of \"+str(total)+\" rows</h2>\"); h"
     ],
     "language": "python",
     "metadata": {},
     "outputs": [
      {
       "html": [
        "<h2>Showing 10 of 4207 rows</h2>"
       ],
       "metadata": {},
       "output_type": "pyout",
       "prompt_number": 121,
       "text": [
        "<IPython.core.display.HTML at 0x1192f8790>"
       ]
      }
     ],
     "prompt_number": 121
    },
    {
     "cell_type": "markdown",
     "metadata": {},
     "source": [
      "## Storage Types"
     ]
    },
    {
     "cell_type": "code",
     "collapsed": false,
     "input": [
      "df.groupby(\"storage\").sum()"
     ],
     "language": "python",
     "metadata": {},
     "outputs": [
      {
       "html": [
        "<div style=\"max-height:1000px;max-width:1500px;overflow:auto;\">\n",
        "<table border=\"1\" class=\"dataframe\">\n",
        "  <thead>\n",
        "    <tr style=\"text-align: right;\">\n",
        "      <th></th>\n",
        "      <th>allowNull</th>\n",
        "      <th>hasDefault</th>\n",
        "      <th>hasAlternatives</th>\n",
        "      <th>hasAliases</th>\n",
        "      <th>isEnum</th>\n",
        "    </tr>\n",
        "    <tr>\n",
        "      <th>storage</th>\n",
        "      <th></th>\n",
        "      <th></th>\n",
        "      <th></th>\n",
        "      <th></th>\n",
        "      <th></th>\n",
        "    </tr>\n",
        "  </thead>\n",
        "  <tbody>\n",
        "    <tr>\n",
        "      <th>configuration</th>\n",
        "      <td> 1983</td>\n",
        "      <td> 1289</td>\n",
        "      <td> 116</td>\n",
        "      <td> 0</td>\n",
        "      <td> 169</td>\n",
        "    </tr>\n",
        "    <tr>\n",
        "      <th>runtime</th>\n",
        "      <td> 1583</td>\n",
        "      <td>   95</td>\n",
        "      <td>  12</td>\n",
        "      <td> 0</td>\n",
        "      <td>   9</td>\n",
        "    </tr>\n",
        "  </tbody>\n",
        "</table>\n",
        "<p>2 rows \u00d7 5 columns</p>\n",
        "</div>"
       ],
       "metadata": {},
       "output_type": "pyout",
       "prompt_number": 122,
       "text": [
        "               allowNull  hasDefault  hasAlternatives  hasAliases  isEnum\n",
        "storage                                                                  \n",
        "configuration       1983        1289              116           0     169\n",
        "runtime             1583          95               12           0       9\n",
        "\n",
        "[2 rows x 5 columns]"
       ]
      }
     ],
     "prompt_number": 122
    },
    {
     "cell_type": "markdown",
     "metadata": {},
     "source": [
      "### 'runtime' && 'read-write'?\n",
      "Should'nt all runtime attributes be read-only?"
     ]
    },
    {
     "cell_type": "code",
     "collapsed": false,
     "input": [
      "df2 = df[(df[\"storage\"] == \"runtime\") & (df[\"accessType\"] == \"read-write\")]\n",
      "df2.head()"
     ],
     "language": "python",
     "metadata": {},
     "outputs": [
      {
       "html": [
        "<div style=\"max-height:1000px;max-width:1500px;overflow:auto;\">\n",
        "<table border=\"1\" class=\"dataframe\">\n",
        "  <thead>\n",
        "    <tr style=\"text-align: right;\">\n",
        "      <th></th>\n",
        "      <th>name</th>\n",
        "      <th>type</th>\n",
        "      <th>storage</th>\n",
        "      <th>accessType</th>\n",
        "      <th>allowNull</th>\n",
        "      <th>hasDefault</th>\n",
        "      <th>hasAlternatives</th>\n",
        "      <th>hasAliases</th>\n",
        "      <th>isEnum</th>\n",
        "      <th>restartPolicy</th>\n",
        "    </tr>\n",
        "    <tr>\n",
        "      <th>address</th>\n",
        "      <th></th>\n",
        "      <th></th>\n",
        "      <th></th>\n",
        "      <th></th>\n",
        "      <th></th>\n",
        "      <th></th>\n",
        "      <th></th>\n",
        "      <th></th>\n",
        "      <th></th>\n",
        "      <th></th>\n",
        "    </tr>\n",
        "  </thead>\n",
        "  <tbody>\n",
        "    <tr>\n",
        "      <th>/core-service=platform-mbean/type=class-loading</th>\n",
        "      <td>                    verbose</td>\n",
        "      <td> BOOLEAN</td>\n",
        "      <td> runtime</td>\n",
        "      <td> read-write</td>\n",
        "      <td> False</td>\n",
        "      <td> False</td>\n",
        "      <td> False</td>\n",
        "      <td> False</td>\n",
        "      <td> False</td>\n",
        "      <td> no-services</td>\n",
        "    </tr>\n",
        "    <tr>\n",
        "      <th>/core-service=platform-mbean/type=memory</th>\n",
        "      <td>                    verbose</td>\n",
        "      <td> BOOLEAN</td>\n",
        "      <td> runtime</td>\n",
        "      <td> read-write</td>\n",
        "      <td> False</td>\n",
        "      <td> False</td>\n",
        "      <td> False</td>\n",
        "      <td> False</td>\n",
        "      <td> False</td>\n",
        "      <td> no-services</td>\n",
        "    </tr>\n",
        "    <tr>\n",
        "      <th>/core-service=platform-mbean/type=memory-pool/name=*</th>\n",
        "      <td>            usage-threshold</td>\n",
        "      <td>    LONG</td>\n",
        "      <td> runtime</td>\n",
        "      <td> read-write</td>\n",
        "      <td>  True</td>\n",
        "      <td> False</td>\n",
        "      <td> False</td>\n",
        "      <td> False</td>\n",
        "      <td> False</td>\n",
        "      <td> no-services</td>\n",
        "    </tr>\n",
        "    <tr>\n",
        "      <th>/core-service=platform-mbean/type=memory-pool/name=*</th>\n",
        "      <td> collection-usage-threshold</td>\n",
        "      <td>    LONG</td>\n",
        "      <td> runtime</td>\n",
        "      <td> read-write</td>\n",
        "      <td>  True</td>\n",
        "      <td> False</td>\n",
        "      <td> False</td>\n",
        "      <td> False</td>\n",
        "      <td> False</td>\n",
        "      <td> no-services</td>\n",
        "    </tr>\n",
        "    <tr>\n",
        "      <th>/core-service=platform-mbean/type=threading</th>\n",
        "      <td>    thread-cpu-time-enabled</td>\n",
        "      <td> BOOLEAN</td>\n",
        "      <td> runtime</td>\n",
        "      <td> read-write</td>\n",
        "      <td> False</td>\n",
        "      <td> False</td>\n",
        "      <td> False</td>\n",
        "      <td> False</td>\n",
        "      <td> False</td>\n",
        "      <td> no-services</td>\n",
        "    </tr>\n",
        "  </tbody>\n",
        "</table>\n",
        "<p>5 rows \u00d7 10 columns</p>\n",
        "</div>"
       ],
       "metadata": {},
       "output_type": "pyout",
       "prompt_number": 143,
       "text": [
        "                                                                            name     type  storage  accessType allowNull hasDefault hasAlternatives hasAliases isEnum restartPolicy\n",
        "address                                                                                                                                                                            \n",
        "/core-service=platform-mbean/type=class-loading                          verbose  BOOLEAN  runtime  read-write     False      False           False      False  False   no-services\n",
        "/core-service=platform-mbean/type=memory                                 verbose  BOOLEAN  runtime  read-write     False      False           False      False  False   no-services\n",
        "/core-service=platform-mbean/type=memory-pool/name=*             usage-threshold     LONG  runtime  read-write      True      False           False      False  False   no-services\n",
        "/core-service=platform-mbean/type=memory-pool/name=*  collection-usage-threshold     LONG  runtime  read-write      True      False           False      False  False   no-services\n",
        "/core-service=platform-mbean/type=threading              thread-cpu-time-enabled  BOOLEAN  runtime  read-write     False      False           False      False  False   no-services\n",
        "\n",
        "[5 rows x 10 columns]"
       ]
      }
     ],
     "prompt_number": 143
    },
    {
     "cell_type": "code",
     "collapsed": false,
     "input": [
      "def ratio( attName, cond ):\n",
      "    df_filtered = df[cond(df)]\n",
      "    total = df[\"name\"].count()\n",
      "    match = df_filtered[attName].count()\n",
      "    pct = 100.00/total*match\n",
      "    fracs = [100-pct, pct]\n",
      "\n",
      "    plt.figure(figsize=(8, 8), dpi=300)\n",
      "    plt.pie(fracs,labels=[\"All\",attName],autopct='%.2f')"
     ],
     "language": "python",
     "metadata": {},
     "outputs": [],
     "prompt_number": 148
    },
    {
     "cell_type": "markdown",
     "metadata": {},
     "source": [
      "## Default Values\n",
      "The number of attributes that provide a default value"
     ]
    },
    {
     "cell_type": "code",
     "collapsed": false,
     "input": [
      "ratio('hasDefault', lambda data: data['hasDefault'] == True )"
     ],
     "language": "python",
     "metadata": {},
     "outputs": [
      {
       "metadata": {},
       "output_type": "display_data",
       "png": "[encoded data removed]",
       "text": [
        "<matplotlib.figure.Figure at 0x10e77b490>"
       ]
      }
     ],
     "prompt_number": 149
    },
    {
     "cell_type": "markdown",
     "metadata": {},
     "source": [
      "## Alternatives\n",
      "The number of attributes that make use of 'alternative' declarations"
     ]
    },
    {
     "cell_type": "code",
     "collapsed": false,
     "input": [
      "ratio('hasAlternatives', lambda data: data['hasAlternatives'] == True )"
     ],
     "language": "python",
     "metadata": {},
     "outputs": [
      {
       "metadata": {},
       "output_type": "display_data",
       "png": "[encoded data removed]",
       "text": [
        "<matplotlib.figure.Figure at 0x10e78c850>"
       ]
      }
     ],
     "prompt_number": 150
    },
    {
     "cell_type": "markdown",
     "metadata": {},
     "source": [
      "## Aliases"
     ]
    },
    {
     "cell_type": "code",
     "collapsed": false,
     "input": [
      "ratio('hasAliases', lambda data: data['hasAliases'] == True )"
     ],
     "language": "python",
     "metadata": {},
     "outputs": [
      {
       "metadata": {},
       "output_type": "display_data",
       "png": "[encoded data removed]",
       "text": [
        "<matplotlib.figure.Figure at 0x119bf3890>"
       ]
      }
     ],
     "prompt_number": 151
    },
    {
     "cell_type": "markdown",
     "metadata": {},
     "source": [
      "## Nillable"
     ]
    },
    {
     "cell_type": "code",
     "collapsed": false,
     "input": [
      "ratio('allowNull', lambda data: data['allowNull'] == True )"
     ],
     "language": "python",
     "metadata": {},
     "outputs": [
      {
       "metadata": {},
       "output_type": "display_data",
       "png": "[encoded data removed]",
       "text": [
        "<matplotlib.figure.Figure at 0x10e76cf90>"
       ]
      }
     ],
     "prompt_number": 152
    },
    {
     "cell_type": "markdown",
     "metadata": {},
     "source": [
      "## IsEnum"
     ]
    },
    {
     "cell_type": "code",
     "collapsed": false,
     "input": [
      "ratio('isEnum', lambda data: data['isEnum'] == True )"
     ],
     "language": "python",
     "metadata": {},
     "outputs": [
      {
       "metadata": {},
       "output_type": "display_data",
       "png": "[encoded data removed]",
       "text": [
        "<matplotlib.figure.Figure at 0x10e7aac50>"
       ]
      }
     ],
     "prompt_number": 153
    },
    {
     "cell_type": "markdown",
     "metadata": {},
     "source": [
      "## Who is using ModelType 'BYTE' ?"
     ]
    },
    {
     "cell_type": "code",
     "collapsed": false,
     "input": [
      "filtered = df[df['type'] == \"BYTES\"]\n",
      "filtered"
     ],
     "language": "python",
     "metadata": {},
     "outputs": [
      {
       "html": [
        "<div style=\"max-height:1000px;max-width:1500px;overflow:auto;\">\n",
        "<table border=\"1\" class=\"dataframe\">\n",
        "  <thead>\n",
        "    <tr style=\"text-align: right;\">\n",
        "      <th></th>\n",
        "      <th>name</th>\n",
        "      <th>type</th>\n",
        "      <th>storage</th>\n",
        "      <th>accessType</th>\n",
        "      <th>allowNull</th>\n",
        "      <th>hasDefault</th>\n",
        "      <th>hasAlternatives</th>\n",
        "      <th>hasAliases</th>\n",
        "      <th>isEnum</th>\n",
        "      <th>restartPolicy</th>\n",
        "    </tr>\n",
        "    <tr>\n",
        "      <th>address</th>\n",
        "      <th></th>\n",
        "      <th></th>\n",
        "      <th></th>\n",
        "      <th></th>\n",
        "      <th></th>\n",
        "      <th></th>\n",
        "      <th></th>\n",
        "      <th></th>\n",
        "      <th></th>\n",
        "      <th></th>\n",
        "    </tr>\n",
        "  </thead>\n",
        "  <tbody>\n",
        "    <tr>\n",
        "      <th>/deployment-overlay=*/content=*</th>\n",
        "      <td> content</td>\n",
        "      <td> BYTES</td>\n",
        "      <td> configuration</td>\n",
        "      <td> read-only</td>\n",
        "      <td> False</td>\n",
        "      <td> False</td>\n",
        "      <td> False</td>\n",
        "      <td> False</td>\n",
        "      <td> False</td>\n",
        "      <td> unknown</td>\n",
        "    </tr>\n",
        "  </tbody>\n",
        "</table>\n",
        "<p>1 rows \u00d7 10 columns</p>\n",
        "</div>"
       ],
       "metadata": {},
       "output_type": "pyout",
       "prompt_number": 128,
       "text": [
        "                                    name   type        storage accessType allowNull hasDefault hasAlternatives hasAliases isEnum restartPolicy\n",
        "address                                                                                                                                       \n",
        "/deployment-overlay=*/content=*  content  BYTES  configuration  read-only     False      False           False      False  False       unknown\n",
        "\n",
        "[1 rows x 10 columns]"
       ]
      }
     ],
     "prompt_number": 128
    },
    {
     "cell_type": "markdown",
     "metadata": {},
     "source": [
      "## Complex Attributes"
     ]
    },
    {
     "cell_type": "code",
     "collapsed": false,
     "input": [
      "complex_types = df[(df[\"type\"] == \"OBJECT\") | (df[\"type\"] == \"LIST\")]\n",
      "complex_types.groupby(\"type\").sum()"
     ],
     "language": "python",
     "metadata": {},
     "outputs": [
      {
       "html": [
        "<div style=\"max-height:1000px;max-width:1500px;overflow:auto;\">\n",
        "<table border=\"1\" class=\"dataframe\">\n",
        "  <thead>\n",
        "    <tr style=\"text-align: right;\">\n",
        "      <th></th>\n",
        "      <th>allowNull</th>\n",
        "      <th>hasDefault</th>\n",
        "      <th>hasAlternatives</th>\n",
        "      <th>hasAliases</th>\n",
        "      <th>isEnum</th>\n",
        "    </tr>\n",
        "    <tr>\n",
        "      <th>type</th>\n",
        "      <th></th>\n",
        "      <th></th>\n",
        "      <th></th>\n",
        "      <th></th>\n",
        "      <th></th>\n",
        "    </tr>\n",
        "  </thead>\n",
        "  <tbody>\n",
        "    <tr>\n",
        "      <th>LIST</th>\n",
        "      <td>  54</td>\n",
        "      <td> 0</td>\n",
        "      <td>  2</td>\n",
        "      <td> 0</td>\n",
        "      <td> 20</td>\n",
        "    </tr>\n",
        "    <tr>\n",
        "      <th>OBJECT</th>\n",
        "      <td> 125</td>\n",
        "      <td> 0</td>\n",
        "      <td> 14</td>\n",
        "      <td> 0</td>\n",
        "      <td>  0</td>\n",
        "    </tr>\n",
        "  </tbody>\n",
        "</table>\n",
        "<p>2 rows \u00d7 5 columns</p>\n",
        "</div>"
       ],
       "metadata": {},
       "output_type": "pyout",
       "prompt_number": 163,
       "text": [
        "        allowNull  hasDefault  hasAlternatives  hasAliases  isEnum\n",
        "type                                                              \n",
        "LIST           54           0                2           0      20\n",
        "OBJECT        125           0               14           0       0\n",
        "\n",
        "[2 rows x 5 columns]"
       ]
      }
     ],
     "prompt_number": 163
    }
   ],
   "metadata": {}
  }
 ]
}