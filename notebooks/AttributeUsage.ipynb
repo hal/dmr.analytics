{
 "metadata": {
  "name": ""
 },
 "nbformat": 3,
 "nbformat_minor": 0,
 "worksheets": [
  {
   "cells": [
    {
     "cell_type": "code",
     "collapsed": false,
     "input": [
      "import pandas as pd\n",
      "import numpy as np\n",
      "import matplotlib.pyplot as plt"
     ],
     "language": "python",
     "metadata": {},
     "outputs": [],
     "prompt_number": 5
    },
    {
     "cell_type": "code",
     "collapsed": false,
     "input": [
      "# some diplay options\n",
      "pd.set_option('display.max_colwidth', 500)\n",
      "pd.set_option('display.width', 1024)"
     ],
     "language": "python",
     "metadata": {},
     "outputs": [],
     "prompt_number": 6
    },
    {
     "cell_type": "code",
     "collapsed": false,
     "input": [
      "# reindex to capture unused types\n",
      "idx = [\"BIG_DECIMAL\",\"BIG_INTEGER\",\"BOOLEAN\", \"BYTES\", \"DOUBLE\",\"INT\",\"LIST\",\"LONG\",\"OBJECT\",\"PROPERTY\",\"STRING\",\"UNDEFINED\"]\n",
      "imported = pd.read_csv('../output/attribute_type-2014.07.08-10.42.10.csv',  \n",
      "                 index_col=0)\n",
      "df = pd.DataFrame(imported,index = idx).fillna(0)\n",
      "df.index.name = \"type\"\n",
      "df"
     ],
     "language": "python",
     "metadata": {},
     "outputs": [
      {
       "html": [
        "<div style=\"max-height:1000px;max-width:1500px;overflow:auto;\">\n",
        "<table border=\"1\" class=\"dataframe\">\n",
        "  <thead>\n",
        "    <tr style=\"text-align: right;\">\n",
        "      <th></th>\n",
        "      <th>count</th>\n",
        "    </tr>\n",
        "    <tr>\n",
        "      <th>type</th>\n",
        "      <th></th>\n",
        "    </tr>\n",
        "  </thead>\n",
        "  <tbody>\n",
        "    <tr>\n",
        "      <th>BIG_DECIMAL</th>\n",
        "      <td>    6</td>\n",
        "    </tr>\n",
        "    <tr>\n",
        "      <th>BIG_INTEGER</th>\n",
        "      <td>    0</td>\n",
        "    </tr>\n",
        "    <tr>\n",
        "      <th>BOOLEAN</th>\n",
        "      <td> 1103</td>\n",
        "    </tr>\n",
        "    <tr>\n",
        "      <th>BYTES</th>\n",
        "      <td>    1</td>\n",
        "    </tr>\n",
        "    <tr>\n",
        "      <th>DOUBLE</th>\n",
        "      <td>   35</td>\n",
        "    </tr>\n",
        "    <tr>\n",
        "      <th>INT</th>\n",
        "      <td>  792</td>\n",
        "    </tr>\n",
        "    <tr>\n",
        "      <th>LIST</th>\n",
        "      <td>  105</td>\n",
        "    </tr>\n",
        "    <tr>\n",
        "      <th>LONG</th>\n",
        "      <td>  692</td>\n",
        "    </tr>\n",
        "    <tr>\n",
        "      <th>OBJECT</th>\n",
        "      <td>  141</td>\n",
        "    </tr>\n",
        "    <tr>\n",
        "      <th>PROPERTY</th>\n",
        "      <td>    0</td>\n",
        "    </tr>\n",
        "    <tr>\n",
        "      <th>STRING</th>\n",
        "      <td> 1332</td>\n",
        "    </tr>\n",
        "    <tr>\n",
        "      <th>UNDEFINED</th>\n",
        "      <td>    0</td>\n",
        "    </tr>\n",
        "  </tbody>\n",
        "</table>\n",
        "<p>12 rows \u00d7 1 columns</p>\n",
        "</div>"
       ],
       "metadata": {},
       "output_type": "pyout",
       "prompt_number": 15,
       "text": [
        "             count\n",
        "type              \n",
        "BIG_DECIMAL      6\n",
        "BIG_INTEGER      0\n",
        "BOOLEAN       1103\n",
        "BYTES            1\n",
        "DOUBLE          35\n",
        "INT            792\n",
        "LIST           105\n",
        "LONG           692\n",
        "OBJECT         141\n",
        "PROPERTY         0\n",
        "STRING        1332\n",
        "UNDEFINED        0\n",
        "\n",
        "[12 rows x 1 columns]"
       ]
      }
     ],
     "prompt_number": 15
    },
    {
     "cell_type": "markdown",
     "metadata": {},
     "source": [
      "## Attribute Type Usage"
     ]
    },
    {
     "cell_type": "code",
     "collapsed": false,
     "input": [
      "sorted = df.sort(['count'], ascending=[1])\n",
      "plt.figure(figsize=(8, 6), dpi=300)\n",
      "sorted['count'].plot(kind='barh', legend=True);"
     ],
     "language": "python",
     "metadata": {},
     "outputs": [
      {
       "metadata": {},
       "output_type": "display_data",
       "png": "[encoded data removed]",
       "text": [
        "<matplotlib.figure.Figure at 0x115df2410>"
       ]
      }
     ],
     "prompt_number": 8
    },
    {
     "cell_type": "code",
     "collapsed": false,
     "input": [
      "filtered = df.ix[df.index==\"BYTES\"]\n",
      "filtered"
     ],
     "language": "python",
     "metadata": {},
     "outputs": [
      {
       "html": [
        "<div style=\"max-height:1000px;max-width:1500px;overflow:auto;\">\n",
        "<table border=\"1\" class=\"dataframe\">\n",
        "  <thead>\n",
        "    <tr style=\"text-align: right;\">\n",
        "      <th></th>\n",
        "      <th>count</th>\n",
        "    </tr>\n",
        "    <tr>\n",
        "      <th>type</th>\n",
        "      <th></th>\n",
        "    </tr>\n",
        "  </thead>\n",
        "  <tbody>\n",
        "    <tr>\n",
        "      <th>BYTES</th>\n",
        "      <td> 1</td>\n",
        "    </tr>\n",
        "  </tbody>\n",
        "</table>\n",
        "<p>1 rows \u00d7 1 columns</p>\n",
        "</div>"
       ],
       "metadata": {},
       "output_type": "pyout",
       "prompt_number": 23,
       "text": [
        "       count\n",
        "type        \n",
        "BYTES      1\n",
        "\n",
        "[1 rows x 1 columns]"
       ]
      }
     ],
     "prompt_number": 23
    }
   ],
   "metadata": {}
  }
 ]
}