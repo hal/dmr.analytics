{
 "metadata": {
  "name": ""
 },
 "nbformat": 3,
 "nbformat_minor": 0,
 "worksheets": [
  {
   "cells": [
    {
     "cell_type": "code",
     "collapsed": false,
     "input": [
      "import pandas as pd\n",
      "import numpy as np\n",
      "import matplotlib.pyplot as plt\n"
     ],
     "language": "python",
     "metadata": {},
     "outputs": [],
     "prompt_number": 13
    },
    {
     "cell_type": "code",
     "collapsed": false,
     "input": [
      "# some diplay options\n",
      "pd.set_option('display.max_colwidth', 500)\n",
      "pd.set_option('display.width', 1024)"
     ],
     "language": "python",
     "metadata": {},
     "outputs": [],
     "prompt_number": 14
    },
    {
     "cell_type": "code",
     "collapsed": false,
     "input": [
      "df = pd.read_csv('output/resource_size-2014.07.07-09.16.17.csv')\n",
      "df.count()\n"
     ],
     "language": "python",
     "metadata": {},
     "outputs": [
      {
       "metadata": {},
       "output_type": "pyout",
       "prompt_number": 15,
       "text": [
        "address    406\n",
        "count      406\n",
        "dtype: int64"
       ]
      }
     ],
     "prompt_number": 15
    },
    {
     "cell_type": "markdown",
     "metadata": {},
     "source": [
      "## Resource Size Distribution"
     ]
    },
    {
     "cell_type": "code",
     "collapsed": false,
     "input": [
      "plt.figure(figsize=(8, 6), dpi=300)\n",
      "plt.title('Numer of attributes per resource')\n",
      "plt.hist(df['count'], 12)\n",
      "plt.show()"
     ],
     "language": "python",
     "metadata": {},
     "outputs": [
      {
       "metadata": {},
       "output_type": "display_data",
       "png": "[encoded data removed]",
       "text": [
        "<matplotlib.figure.Figure at 0x10b9b1110>"
       ]
      }
     ],
     "prompt_number": 17
    },
    {
     "cell_type": "markdown",
     "metadata": {},
     "source": [
      "## Biggest Resources"
     ]
    },
    {
     "cell_type": "code",
     "collapsed": false,
     "input": [
      "sorted = df.sort(['count'], ascending=[0])\n",
      "sorted[:25]"
     ],
     "language": "python",
     "metadata": {},
     "outputs": [
      {
       "html": [
        "<div style=\"max-height:1000px;max-width:1500px;overflow:auto;\">\n",
        "<table border=\"1\" class=\"dataframe\">\n",
        "  <thead>\n",
        "    <tr style=\"text-align: right;\">\n",
        "      <th></th>\n",
        "      <th>address</th>\n",
        "      <th>count</th>\n",
        "    </tr>\n",
        "  </thead>\n",
        "  <tbody>\n",
        "    <tr>\n",
        "      <th>298</th>\n",
        "      <td>                            /subsystem=datasources/data-source=ExampleDS</td>\n",
        "      <td> 57</td>\n",
        "    </tr>\n",
        "    <tr>\n",
        "      <th>387</th>\n",
        "      <td>                                                 /subsystem=transactions</td>\n",
        "      <td> 35</td>\n",
        "    </tr>\n",
        "    <tr>\n",
        "      <th>399</th>\n",
        "      <td>         /subsystem=undertow/server=default-server/http-listener=default</td>\n",
        "      <td> 24</td>\n",
        "    </tr>\n",
        "    <tr>\n",
        "      <th>342</th>\n",
        "      <td>        /subsystem=infinispan/cache-container=web/local-cache=persistent</td>\n",
        "      <td> 22</td>\n",
        "    </tr>\n",
        "    <tr>\n",
        "      <th>340</th>\n",
        "      <td>       /subsystem=infinispan/cache-container=web/local-cache=passivation</td>\n",
        "      <td> 22</td>\n",
        "    </tr>\n",
        "    <tr>\n",
        "      <th>338</th>\n",
        "      <td>        /subsystem=infinispan/cache-container=server/local-cache=default</td>\n",
        "      <td> 22</td>\n",
        "    </tr>\n",
        "    <tr>\n",
        "      <th>334</th>\n",
        "      <td>  /subsystem=infinispan/cache-container=hibernate/local-cache=timestamps</td>\n",
        "      <td> 22</td>\n",
        "    </tr>\n",
        "    <tr>\n",
        "      <th>330</th>\n",
        "      <td> /subsystem=infinispan/cache-container=hibernate/local-cache=local-query</td>\n",
        "      <td> 22</td>\n",
        "    </tr>\n",
        "    <tr>\n",
        "      <th>326</th>\n",
        "      <td>      /subsystem=infinispan/cache-container=hibernate/local-cache=entity</td>\n",
        "      <td> 22</td>\n",
        "    </tr>\n",
        "    <tr>\n",
        "      <th>323</th>\n",
        "      <td>        /subsystem=infinispan/cache-container=ejb/local-cache=persistent</td>\n",
        "      <td> 22</td>\n",
        "    </tr>\n",
        "    <tr>\n",
        "      <th>321</th>\n",
        "      <td>       /subsystem=infinispan/cache-container=ejb/local-cache=passivation</td>\n",
        "      <td> 22</td>\n",
        "    </tr>\n",
        "    <tr>\n",
        "      <th>300</th>\n",
        "      <td>            /subsystem=datasources/data-source=ExampleDS/statistics=pool</td>\n",
        "      <td> 21</td>\n",
        "    </tr>\n",
        "    <tr>\n",
        "      <th>274</th>\n",
        "      <td>                                                     /interface=unsecure</td>\n",
        "      <td> 20</td>\n",
        "    </tr>\n",
        "    <tr>\n",
        "      <th>273</th>\n",
        "      <td>                                                       /interface=public</td>\n",
        "      <td> 20</td>\n",
        "    </tr>\n",
        "    <tr>\n",
        "      <th>272</th>\n",
        "      <td>                                                   /interface=management</td>\n",
        "      <td> 20</td>\n",
        "    </tr>\n",
        "    <tr>\n",
        "      <th>401</th>\n",
        "      <td>               /subsystem=undertow/servlet-container=default/setting=jsp</td>\n",
        "      <td> 19</td>\n",
        "    </tr>\n",
        "    <tr>\n",
        "      <th>374</th>\n",
        "      <td>                              /subsystem=remoting/configuration=endpoint</td>\n",
        "      <td> 18</td>\n",
        "    </tr>\n",
        "    <tr>\n",
        "      <th>223</th>\n",
        "      <td>                                        /core-service=server-environment</td>\n",
        "      <td> 17</td>\n",
        "    </tr>\n",
        "    <tr>\n",
        "      <th>221</th>\n",
        "      <td>                               /core-service=platform-mbean/type=runtime</td>\n",
        "      <td> 17</td>\n",
        "    </tr>\n",
        "    <tr>\n",
        "      <th>219</th>\n",
        "      <td>          /core-service=platform-mbean/type=memory-pool/name=Tenured_Gen</td>\n",
        "      <td> 16</td>\n",
        "    </tr>\n",
        "    <tr>\n",
        "      <th>218</th>\n",
        "      <td>       /core-service=platform-mbean/type=memory-pool/name=Survivor_Space</td>\n",
        "      <td> 16</td>\n",
        "    </tr>\n",
        "    <tr>\n",
        "      <th>217</th>\n",
        "      <td>             /core-service=platform-mbean/type=memory-pool/name=Perm_Gen</td>\n",
        "      <td> 16</td>\n",
        "    </tr>\n",
        "    <tr>\n",
        "      <th>216</th>\n",
        "      <td>           /core-service=platform-mbean/type=memory-pool/name=Eden_Space</td>\n",
        "      <td> 16</td>\n",
        "    </tr>\n",
        "    <tr>\n",
        "      <th>215</th>\n",
        "      <td>           /core-service=platform-mbean/type=memory-pool/name=Code_Cache</td>\n",
        "      <td> 16</td>\n",
        "    </tr>\n",
        "    <tr>\n",
        "      <th>309</th>\n",
        "      <td>                                                         /subsystem=ejb3</td>\n",
        "      <td> 16</td>\n",
        "    </tr>\n",
        "  </tbody>\n",
        "</table>\n",
        "<p>25 rows \u00d7 2 columns</p>\n",
        "</div>"
       ],
       "metadata": {},
       "output_type": "pyout",
       "prompt_number": 18,
       "text": [
        "                                                                     address  count\n",
        "298                             /subsystem=datasources/data-source=ExampleDS     57\n",
        "387                                                  /subsystem=transactions     35\n",
        "399          /subsystem=undertow/server=default-server/http-listener=default     24\n",
        "342         /subsystem=infinispan/cache-container=web/local-cache=persistent     22\n",
        "340        /subsystem=infinispan/cache-container=web/local-cache=passivation     22\n",
        "338         /subsystem=infinispan/cache-container=server/local-cache=default     22\n",
        "334   /subsystem=infinispan/cache-container=hibernate/local-cache=timestamps     22\n",
        "330  /subsystem=infinispan/cache-container=hibernate/local-cache=local-query     22\n",
        "326       /subsystem=infinispan/cache-container=hibernate/local-cache=entity     22\n",
        "323         /subsystem=infinispan/cache-container=ejb/local-cache=persistent     22\n",
        "321        /subsystem=infinispan/cache-container=ejb/local-cache=passivation     22\n",
        "300             /subsystem=datasources/data-source=ExampleDS/statistics=pool     21\n",
        "274                                                      /interface=unsecure     20\n",
        "273                                                        /interface=public     20\n",
        "272                                                    /interface=management     20\n",
        "401                /subsystem=undertow/servlet-container=default/setting=jsp     19\n",
        "374                               /subsystem=remoting/configuration=endpoint     18\n",
        "223                                         /core-service=server-environment     17\n",
        "221                                /core-service=platform-mbean/type=runtime     17\n",
        "219           /core-service=platform-mbean/type=memory-pool/name=Tenured_Gen     16\n",
        "218        /core-service=platform-mbean/type=memory-pool/name=Survivor_Space     16\n",
        "217              /core-service=platform-mbean/type=memory-pool/name=Perm_Gen     16\n",
        "216            /core-service=platform-mbean/type=memory-pool/name=Eden_Space     16\n",
        "215            /core-service=platform-mbean/type=memory-pool/name=Code_Cache     16\n",
        "309                                                          /subsystem=ejb3     16\n",
        "\n",
        "[25 rows x 2 columns]"
       ]
      }
     ],
     "prompt_number": 18
    }
   ],
   "metadata": {}
  }
 ]
}