{
 "metadata": {
  "name": "",
  "signature": "sha256:f367ee7cc3d45f6cef49c8a18985dd9888a238313de52b9a6e2433395ab10ea4"
 },
 "nbformat": 3,
 "nbformat_minor": 0,
 "worksheets": [
  {
   "cells": [
    {
     "cell_type": "code",
     "collapsed": false,
     "input": [
      "import pandas as pd\n",
      "import numpy as np\n",
      "import matplotlib.pyplot as plt\n",
      "from IPython.display import HTML\n",
      "\n",
      "# some diplay options\n",
      "pd.set_option('display.max_colwidth', 600)\n",
      "pd.set_option('display.width', 1024)\n",
      "\n",
      "# version \\n\n",
      "server = pd.read_csv('../output/server.csv')\n",
      "v = server.values\n",
      "HTML(\"<h1>Server Info</h1><ul><li>\"+v[0][0]+\" \"+v[0][1]+\"</li><li>Process Type: \"+v[0][2]+\n",
      "     \"</li><li>Management Version: \"+str(v[0][3])+\".\"+str(v[0][4])+\".\"+str(v[0][5])+\"</li></ul>\")\n"
     ],
     "language": "python",
     "metadata": {},
     "outputs": [
      {
       "html": [
        "<h1>Server Info</h1><ul><li>Kenny 9.0.0.Alpha1-SNAPSHOT</li><li>Process Type: Server</li><li>Management Version: 3.0.0</li></ul>"
       ],
       "metadata": {},
       "output_type": "pyout",
       "prompt_number": 2,
       "text": [
        "<IPython.core.display.HTML at 0x113a34f50>"
       ]
      }
     ],
     "prompt_number": 2
    },
    {
     "cell_type": "markdown",
     "metadata": {},
     "source": [
      "## The (almost) complete data set\n",
      "\n",
      "The dataset represents managed resources as a denormalised set of attributes."
     ]
    },
    {
     "cell_type": "code",
     "collapsed": false,
     "input": [
      "imported = pd.read_csv('../output/attributes.csv')\n",
      "df = imported.sort(ascending=[0])\n",
      "df[:10]"
     ],
     "language": "python",
     "metadata": {},
     "outputs": [
      {
       "html": [
        "<div style=\"max-height:1000px;max-width:1500px;overflow:auto;\">\n",
        "<table border=\"1\" class=\"dataframe\">\n",
        "  <thead>\n",
        "    <tr style=\"text-align: right;\">\n",
        "      <th></th>\n",
        "      <th>address</th>\n",
        "      <th>name</th>\n",
        "      <th>type</th>\n",
        "      <th>valueType</th>\n",
        "      <th>valueTypeDepth</th>\n",
        "      <th>storage</th>\n",
        "      <th>accessType</th>\n",
        "      <th>allowNull</th>\n",
        "      <th>hasDefault</th>\n",
        "      <th>hasAlternatives</th>\n",
        "      <th>hasAliases</th>\n",
        "      <th>isEnum</th>\n",
        "      <th>restartPolicy</th>\n",
        "      <th>deprecated</th>\n",
        "    </tr>\n",
        "  </thead>\n",
        "  <tbody>\n",
        "    <tr>\n",
        "      <th>0</th>\n",
        "      <td> /deployment-overlay=*/content=*</td>\n",
        "      <td>        content</td>\n",
        "      <td>   BYTES</td>\n",
        "      <td> UNDEFINED</td>\n",
        "      <td> 0</td>\n",
        "      <td> configuration</td>\n",
        "      <td>  read-only</td>\n",
        "      <td> False</td>\n",
        "      <td> False</td>\n",
        "      <td> False</td>\n",
        "      <td> False</td>\n",
        "      <td> False</td>\n",
        "      <td>          n/a</td>\n",
        "      <td> False</td>\n",
        "    </tr>\n",
        "    <tr>\n",
        "      <th>1</th>\n",
        "      <td>                   /deployment=*</td>\n",
        "      <td>   runtime-name</td>\n",
        "      <td>  STRING</td>\n",
        "      <td> UNDEFINED</td>\n",
        "      <td> 0</td>\n",
        "      <td> configuration</td>\n",
        "      <td>  read-only</td>\n",
        "      <td> False</td>\n",
        "      <td> False</td>\n",
        "      <td> False</td>\n",
        "      <td> False</td>\n",
        "      <td> False</td>\n",
        "      <td>          n/a</td>\n",
        "      <td> False</td>\n",
        "    </tr>\n",
        "    <tr>\n",
        "      <th>2</th>\n",
        "      <td>                   /deployment=*</td>\n",
        "      <td>        content</td>\n",
        "      <td>    LIST</td>\n",
        "      <td>    OBJECT</td>\n",
        "      <td> 1</td>\n",
        "      <td> configuration</td>\n",
        "      <td>  read-only</td>\n",
        "      <td> False</td>\n",
        "      <td> False</td>\n",
        "      <td> False</td>\n",
        "      <td> False</td>\n",
        "      <td> False</td>\n",
        "      <td>          n/a</td>\n",
        "      <td> False</td>\n",
        "    </tr>\n",
        "    <tr>\n",
        "      <th>3</th>\n",
        "      <td>                   /deployment=*</td>\n",
        "      <td>        enabled</td>\n",
        "      <td> BOOLEAN</td>\n",
        "      <td> UNDEFINED</td>\n",
        "      <td> 0</td>\n",
        "      <td> configuration</td>\n",
        "      <td>  read-only</td>\n",
        "      <td>  True</td>\n",
        "      <td>  True</td>\n",
        "      <td> False</td>\n",
        "      <td> False</td>\n",
        "      <td> False</td>\n",
        "      <td>          n/a</td>\n",
        "      <td> False</td>\n",
        "    </tr>\n",
        "    <tr>\n",
        "      <th>4</th>\n",
        "      <td>                   /deployment=*</td>\n",
        "      <td>     persistent</td>\n",
        "      <td> BOOLEAN</td>\n",
        "      <td> UNDEFINED</td>\n",
        "      <td> 0</td>\n",
        "      <td> configuration</td>\n",
        "      <td>  read-only</td>\n",
        "      <td> False</td>\n",
        "      <td> False</td>\n",
        "      <td> False</td>\n",
        "      <td> False</td>\n",
        "      <td> False</td>\n",
        "      <td>          n/a</td>\n",
        "      <td> False</td>\n",
        "    </tr>\n",
        "    <tr>\n",
        "      <th>5</th>\n",
        "      <td>                   /deployment=*</td>\n",
        "      <td>         status</td>\n",
        "      <td>  STRING</td>\n",
        "      <td> UNDEFINED</td>\n",
        "      <td> 0</td>\n",
        "      <td>       runtime</td>\n",
        "      <td>     metric</td>\n",
        "      <td> False</td>\n",
        "      <td> False</td>\n",
        "      <td> False</td>\n",
        "      <td> False</td>\n",
        "      <td> False</td>\n",
        "      <td>          n/a</td>\n",
        "      <td> False</td>\n",
        "    </tr>\n",
        "    <tr>\n",
        "      <th>6</th>\n",
        "      <td>                   /deployment=*</td>\n",
        "      <td>           name</td>\n",
        "      <td>  STRING</td>\n",
        "      <td> UNDEFINED</td>\n",
        "      <td> 0</td>\n",
        "      <td> configuration</td>\n",
        "      <td>  read-only</td>\n",
        "      <td> False</td>\n",
        "      <td> False</td>\n",
        "      <td> False</td>\n",
        "      <td> False</td>\n",
        "      <td> False</td>\n",
        "      <td>          n/a</td>\n",
        "      <td> False</td>\n",
        "    </tr>\n",
        "    <tr>\n",
        "      <th>7</th>\n",
        "      <td>                    /interface=*</td>\n",
        "      <td>        virtual</td>\n",
        "      <td> BOOLEAN</td>\n",
        "      <td> UNDEFINED</td>\n",
        "      <td> 0</td>\n",
        "      <td> configuration</td>\n",
        "      <td> read-write</td>\n",
        "      <td>  True</td>\n",
        "      <td> False</td>\n",
        "      <td>  True</td>\n",
        "      <td> False</td>\n",
        "      <td> False</td>\n",
        "      <td> all-services</td>\n",
        "      <td> False</td>\n",
        "    </tr>\n",
        "    <tr>\n",
        "      <th>8</th>\n",
        "      <td>                    /interface=*</td>\n",
        "      <td>   subnet-match</td>\n",
        "      <td>  STRING</td>\n",
        "      <td> UNDEFINED</td>\n",
        "      <td> 0</td>\n",
        "      <td> configuration</td>\n",
        "      <td> read-write</td>\n",
        "      <td>  True</td>\n",
        "      <td> False</td>\n",
        "      <td>  True</td>\n",
        "      <td> False</td>\n",
        "      <td> False</td>\n",
        "      <td> all-services</td>\n",
        "      <td> False</td>\n",
        "    </tr>\n",
        "    <tr>\n",
        "      <th>9</th>\n",
        "      <td>                    /interface=*</td>\n",
        "      <td> public-address</td>\n",
        "      <td> BOOLEAN</td>\n",
        "      <td> UNDEFINED</td>\n",
        "      <td> 0</td>\n",
        "      <td> configuration</td>\n",
        "      <td> read-write</td>\n",
        "      <td>  True</td>\n",
        "      <td> False</td>\n",
        "      <td>  True</td>\n",
        "      <td> False</td>\n",
        "      <td> False</td>\n",
        "      <td> all-services</td>\n",
        "      <td> False</td>\n",
        "    </tr>\n",
        "  </tbody>\n",
        "</table>\n",
        "</div>"
       ],
       "metadata": {},
       "output_type": "pyout",
       "prompt_number": 3,
       "text": [
        "                           address            name     type  valueType  valueTypeDepth        storage  accessType allowNull hasDefault hasAlternatives hasAliases isEnum restartPolicy deprecated\n",
        "0  /deployment-overlay=*/content=*         content    BYTES  UNDEFINED               0  configuration   read-only     False      False           False      False  False           n/a      False\n",
        "1                    /deployment=*    runtime-name   STRING  UNDEFINED               0  configuration   read-only     False      False           False      False  False           n/a      False\n",
        "2                    /deployment=*         content     LIST     OBJECT               1  configuration   read-only     False      False           False      False  False           n/a      False\n",
        "3                    /deployment=*         enabled  BOOLEAN  UNDEFINED               0  configuration   read-only      True       True           False      False  False           n/a      False\n",
        "4                    /deployment=*      persistent  BOOLEAN  UNDEFINED               0  configuration   read-only     False      False           False      False  False           n/a      False\n",
        "5                    /deployment=*          status   STRING  UNDEFINED               0        runtime      metric     False      False           False      False  False           n/a      False\n",
        "6                    /deployment=*            name   STRING  UNDEFINED               0  configuration   read-only     False      False           False      False  False           n/a      False\n",
        "7                     /interface=*         virtual  BOOLEAN  UNDEFINED               0  configuration  read-write      True      False            True      False  False  all-services      False\n",
        "8                     /interface=*    subnet-match   STRING  UNDEFINED               0  configuration  read-write      True      False            True      False  False  all-services      False\n",
        "9                     /interface=*  public-address  BOOLEAN  UNDEFINED               0  configuration  read-write      True      False            True      False  False  all-services      False"
       ]
      }
     ],
     "prompt_number": 3
    },
    {
     "cell_type": "code",
     "collapsed": false,
     "input": [
      "total = df['name'].count()\n",
      "h = HTML(\"<h2>\"+str(total)+\" rows in total</h2>\"); h"
     ],
     "language": "python",
     "metadata": {},
     "outputs": [
      {
       "html": [
        "<h2>1944 rows in total</h2>"
       ],
       "metadata": {},
       "output_type": "pyout",
       "prompt_number": 4,
       "text": [
        "<IPython.core.display.HTML at 0x113a60350>"
       ]
      }
     ],
     "prompt_number": 4
    },
    {
     "cell_type": "markdown",
     "metadata": {},
     "source": [
      "# Resources\n",
      "## Resource Size (number of attributes)\n",
      "\n",
      "'size' distribution of addressable resources. Child and parent resources are treated equally."
     ]
    },
    {
     "cell_type": "code",
     "collapsed": false,
     "input": [
      "resourceGrps = df.groupby(\"address\")\n",
      "plt.figure(figsize=(8, 6), dpi=300)\n",
      "resourceGrps.size().hist(bins=12)\n"
     ],
     "language": "python",
     "metadata": {},
     "outputs": [
      {
       "metadata": {},
       "output_type": "pyout",
       "prompt_number": 5,
       "text": [
        "<matplotlib.axes.AxesSubplot at 0x113a60550>"
       ]
      },
      {
       "metadata": {},
       "output_type": "display_data",
       "png": "[encoded data removed]",
       "text": [
        "<matplotlib.figure.Figure at 0x113a940d0>"
       ]
      }
     ],
     "prompt_number": 5
    },
    {
     "cell_type": "markdown",
     "metadata": {},
     "source": [
      "### Biggest resources\n",
      "The majority of resources have less then 20 attributes. However there are some outliers that have more then 50 attributes on a single level."
     ]
    },
    {
     "cell_type": "code",
     "collapsed": false,
     "input": [
      "grp = df.groupby(df[\"address\"])[\"name\"]\n",
      "size = pd.DataFrame(grp.count())\n",
      "size.columns = ['count']\n",
      "sorted = size.sort(['count'], ascending=[0])\n",
      "sorted[:25]\n"
     ],
     "language": "python",
     "metadata": {},
     "outputs": [
      {
       "html": [
        "<div style=\"max-height:1000px;max-width:1500px;overflow:auto;\">\n",
        "<table border=\"1\" class=\"dataframe\">\n",
        "  <thead>\n",
        "    <tr style=\"text-align: right;\">\n",
        "      <th></th>\n",
        "      <th>count</th>\n",
        "    </tr>\n",
        "    <tr>\n",
        "      <th>address</th>\n",
        "      <th></th>\n",
        "    </tr>\n",
        "  </thead>\n",
        "  <tbody>\n",
        "    <tr>\n",
        "      <th>/subsystem=datasources/xa-data-source=*</th>\n",
        "      <td> 66</td>\n",
        "    </tr>\n",
        "    <tr>\n",
        "      <th>/subsystem=datasources/data-source=*</th>\n",
        "      <td> 57</td>\n",
        "    </tr>\n",
        "    <tr>\n",
        "      <th>/subsystem=resource-adapters/resource-adapter=*/connection-definitions=*</th>\n",
        "      <td> 42</td>\n",
        "    </tr>\n",
        "    <tr>\n",
        "      <th>/subsystem=infinispan/cache-container=*/distributed-cache=*</th>\n",
        "      <td> 35</td>\n",
        "    </tr>\n",
        "    <tr>\n",
        "      <th>/subsystem=transactions</th>\n",
        "      <td> 35</td>\n",
        "    </tr>\n",
        "    <tr>\n",
        "      <th>/subsystem=infinispan/cache-container=*/replicated-cache=*</th>\n",
        "      <td> 31</td>\n",
        "    </tr>\n",
        "    <tr>\n",
        "      <th>/subsystem=infinispan/cache-container=*/invalidation-cache=*</th>\n",
        "      <td> 31</td>\n",
        "    </tr>\n",
        "    <tr>\n",
        "      <th>/subsystem=undertow/server=*/https-listener=*</th>\n",
        "      <td> 25</td>\n",
        "    </tr>\n",
        "    <tr>\n",
        "      <th>/subsystem=undertow/server=*/http-listener=*</th>\n",
        "      <td> 24</td>\n",
        "    </tr>\n",
        "    <tr>\n",
        "      <th>/subsystem=undertow/server=*/ajp-listener=*</th>\n",
        "      <td> 23</td>\n",
        "    </tr>\n",
        "    <tr>\n",
        "      <th>/subsystem=infinispan/cache-container=*/local-cache=*</th>\n",
        "      <td> 22</td>\n",
        "    </tr>\n",
        "    <tr>\n",
        "      <th>/interface=*</th>\n",
        "      <td> 20</td>\n",
        "    </tr>\n",
        "    <tr>\n",
        "      <th>/subsystem=undertow/servlet-container=*/setting=jsp</th>\n",
        "      <td> 19</td>\n",
        "    </tr>\n",
        "    <tr>\n",
        "      <th>/subsystem=remoting/configuration=endpoint</th>\n",
        "      <td> 18</td>\n",
        "    </tr>\n",
        "    <tr>\n",
        "      <th>/core-service=platform-mbean/type=runtime</th>\n",
        "      <td> 17</td>\n",
        "    </tr>\n",
        "    <tr>\n",
        "      <th>/core-service=server-environment</th>\n",
        "      <td> 17</td>\n",
        "    </tr>\n",
        "    <tr>\n",
        "      <th>/subsystem=ejb3</th>\n",
        "      <td> 16</td>\n",
        "    </tr>\n",
        "    <tr>\n",
        "      <th>/core-service=platform-mbean/type=memory-pool/name=*</th>\n",
        "      <td> 16</td>\n",
        "    </tr>\n",
        "    <tr>\n",
        "      <th>/core-service=platform-mbean/type=threading</th>\n",
        "      <td> 15</td>\n",
        "    </tr>\n",
        "    <tr>\n",
        "      <th>/</th>\n",
        "      <td> 15</td>\n",
        "    </tr>\n",
        "    <tr>\n",
        "      <th>/subsystem=infinispan/cache-container=*</th>\n",
        "      <td> 14</td>\n",
        "    </tr>\n",
        "    <tr>\n",
        "      <th>/subsystem=logging/size-rotating-file-handler=*</th>\n",
        "      <td> 14</td>\n",
        "    </tr>\n",
        "    <tr>\n",
        "      <th>/subsystem=logging/logging-profile=*/size-rotating-file-handler=*</th>\n",
        "      <td> 13</td>\n",
        "    </tr>\n",
        "    <tr>\n",
        "      <th>/subsystem=resource-adapters/resource-adapter=*</th>\n",
        "      <td> 13</td>\n",
        "    </tr>\n",
        "    <tr>\n",
        "      <th>/subsystem=infinispan/cache-container=*/local-cache=*/remote-store=REMOTE_STORE</th>\n",
        "      <td> 12</td>\n",
        "    </tr>\n",
        "  </tbody>\n",
        "</table>\n",
        "</div>"
       ],
       "metadata": {},
       "output_type": "pyout",
       "prompt_number": 6,
       "text": [
        "                                                                                 count\n",
        "address                                                                               \n",
        "/subsystem=datasources/xa-data-source=*                                             66\n",
        "/subsystem=datasources/data-source=*                                                57\n",
        "/subsystem=resource-adapters/resource-adapter=*/connection-definitions=*            42\n",
        "/subsystem=infinispan/cache-container=*/distributed-cache=*                         35\n",
        "/subsystem=transactions                                                             35\n",
        "/subsystem=infinispan/cache-container=*/replicated-cache=*                          31\n",
        "/subsystem=infinispan/cache-container=*/invalidation-cache=*                        31\n",
        "/subsystem=undertow/server=*/https-listener=*                                       25\n",
        "/subsystem=undertow/server=*/http-listener=*                                        24\n",
        "/subsystem=undertow/server=*/ajp-listener=*                                         23\n",
        "/subsystem=infinispan/cache-container=*/local-cache=*                               22\n",
        "/interface=*                                                                        20\n",
        "/subsystem=undertow/servlet-container=*/setting=jsp                                 19\n",
        "/subsystem=remoting/configuration=endpoint                                          18\n",
        "/core-service=platform-mbean/type=runtime                                           17\n",
        "/core-service=server-environment                                                    17\n",
        "/subsystem=ejb3                                                                     16\n",
        "/core-service=platform-mbean/type=memory-pool/name=*                                16\n",
        "/core-service=platform-mbean/type=threading                                         15\n",
        "/                                                                                   15\n",
        "/subsystem=infinispan/cache-container=*                                             14\n",
        "/subsystem=logging/size-rotating-file-handler=*                                     14\n",
        "/subsystem=logging/logging-profile=*/size-rotating-file-handler=*                   13\n",
        "/subsystem=resource-adapters/resource-adapter=*                                     13\n",
        "/subsystem=infinispan/cache-container=*/local-cache=*/remote-store=REMOTE_STORE     12"
       ]
      }
     ],
     "prompt_number": 6
    },
    {
     "cell_type": "markdown",
     "metadata": {},
     "source": [
      "# Attribute Types\n",
      "Breakdown of attribute types usage across the whole dataset."
     ]
    },
    {
     "cell_type": "code",
     "collapsed": false,
     "input": [
      "types = df.groupby(\"type\")\n",
      "plt.figure(figsize=(8, 6), dpi=300)\n",
      "types['name'].count().plot(kind=\"barh\")"
     ],
     "language": "python",
     "metadata": {},
     "outputs": [
      {
       "metadata": {},
       "output_type": "pyout",
       "prompt_number": 7,
       "text": [
        "<matplotlib.axes.AxesSubplot at 0x1128e1510>"
       ]
      },
      {
       "metadata": {},
       "output_type": "display_data",
       "png": "[encoded data removed]",
       "text": [
        "<matplotlib.figure.Figure at 0x1128e12d0>"
       ]
      }
     ],
     "prompt_number": 7
    },
    {
     "cell_type": "markdown",
     "metadata": {},
     "source": [
      "## Who is using ModelType 'BYTE' ?"
     ]
    },
    {
     "cell_type": "code",
     "collapsed": false,
     "input": [
      "filtered = df[df['type'] == \"BYTES\"]\n",
      "filtered"
     ],
     "language": "python",
     "metadata": {},
     "outputs": [
      {
       "html": [
        "<div style=\"max-height:1000px;max-width:1500px;overflow:auto;\">\n",
        "<table border=\"1\" class=\"dataframe\">\n",
        "  <thead>\n",
        "    <tr style=\"text-align: right;\">\n",
        "      <th></th>\n",
        "      <th>address</th>\n",
        "      <th>name</th>\n",
        "      <th>type</th>\n",
        "      <th>valueType</th>\n",
        "      <th>valueTypeDepth</th>\n",
        "      <th>storage</th>\n",
        "      <th>accessType</th>\n",
        "      <th>allowNull</th>\n",
        "      <th>hasDefault</th>\n",
        "      <th>hasAlternatives</th>\n",
        "      <th>hasAliases</th>\n",
        "      <th>isEnum</th>\n",
        "      <th>restartPolicy</th>\n",
        "      <th>deprecated</th>\n",
        "    </tr>\n",
        "  </thead>\n",
        "  <tbody>\n",
        "    <tr>\n",
        "      <th>0</th>\n",
        "      <td> /deployment-overlay=*/content=*</td>\n",
        "      <td> content</td>\n",
        "      <td> BYTES</td>\n",
        "      <td> UNDEFINED</td>\n",
        "      <td> 0</td>\n",
        "      <td> configuration</td>\n",
        "      <td> read-only</td>\n",
        "      <td> False</td>\n",
        "      <td> False</td>\n",
        "      <td> False</td>\n",
        "      <td> False</td>\n",
        "      <td> False</td>\n",
        "      <td> n/a</td>\n",
        "      <td> False</td>\n",
        "    </tr>\n",
        "  </tbody>\n",
        "</table>\n",
        "</div>"
       ],
       "metadata": {},
       "output_type": "pyout",
       "prompt_number": 8,
       "text": [
        "                           address     name   type  valueType  valueTypeDepth        storage accessType allowNull hasDefault hasAlternatives hasAliases isEnum restartPolicy deprecated\n",
        "0  /deployment-overlay=*/content=*  content  BYTES  UNDEFINED               0  configuration  read-only     False      False           False      False  False           n/a      False"
       ]
      }
     ],
     "prompt_number": 8
    },
    {
     "cell_type": "markdown",
     "metadata": {},
     "source": [
      "# Storage Types"
     ]
    },
    {
     "cell_type": "code",
     "collapsed": false,
     "input": [
      "grp = df.groupby(\"storage\")\n",
      "grp[\"type\"].count().plot(kind=\"barh\")"
     ],
     "language": "python",
     "metadata": {},
     "outputs": [
      {
       "metadata": {},
       "output_type": "pyout",
       "prompt_number": 9,
       "text": [
        "<matplotlib.axes.AxesSubplot at 0x114356090>"
       ]
      },
      {
       "metadata": {},
       "output_type": "display_data",
       "png": "[encoded data removed]",
       "text": [
        "<matplotlib.figure.Figure at 0x1142d93d0>"
       ]
      }
     ],
     "prompt_number": 9
    },
    {
     "cell_type": "markdown",
     "metadata": {},
     "source": [
      "# Access Types"
     ]
    },
    {
     "cell_type": "code",
     "collapsed": false,
     "input": [
      "grp = df.groupby(\"accessType\")\n",
      "grp[\"type\"].count().plot(kind=\"barh\")"
     ],
     "language": "python",
     "metadata": {},
     "outputs": [
      {
       "metadata": {},
       "output_type": "pyout",
       "prompt_number": 10,
       "text": [
        "<matplotlib.axes.AxesSubplot at 0x114368b50>"
       ]
      },
      {
       "metadata": {},
       "output_type": "display_data",
       "png": "[encoded data removed]",
       "text": [
        "<matplotlib.figure.Figure at 0x1144f9110>"
       ]
      }
     ],
     "prompt_number": 10
    },
    {
     "cell_type": "markdown",
     "metadata": {},
     "source": [
      "## Metric Constraints\n",
      "\n",
      "Metrics should have storage type==\"runtime\""
     ]
    },
    {
     "cell_type": "code",
     "collapsed": false,
     "input": [
      "metrics = df[(df[\"accessType\"] == \"metric\")]\n",
      "invalidMetrics = metrics[(metrics[\"storage\"] != \"runtime\")]\n",
      "invalidMetrics.empty"
     ],
     "language": "python",
     "metadata": {},
     "outputs": [
      {
       "metadata": {},
       "output_type": "pyout",
       "prompt_number": 11,
       "text": [
        "True"
       ]
      }
     ],
     "prompt_number": 11
    },
    {
     "cell_type": "markdown",
     "metadata": {},
     "source": [
      "### Metric attribute types"
     ]
    },
    {
     "cell_type": "code",
     "collapsed": false,
     "input": [
      "grp = metrics.groupby(\"type\")\n",
      "grp[\"type\"].count().plot(kind=\"barh\")"
     ],
     "language": "python",
     "metadata": {},
     "outputs": [
      {
       "metadata": {},
       "output_type": "pyout",
       "prompt_number": 12,
       "text": [
        "<matplotlib.axes.AxesSubplot at 0x11462aa90>"
       ]
      },
      {
       "metadata": {},
       "output_type": "display_data",
       "png": "[encoded data removed]",
       "text": [
        "<matplotlib.figure.Figure at 0x114635310>"
       ]
      }
     ],
     "prompt_number": 12
    },
    {
     "cell_type": "markdown",
     "metadata": {},
     "source": [
      "### Non scalar metrics values \n",
      "Attributes of accessType==metric should ideally be scalar values. But certainly not type==LIST or type==OBJECT"
     ]
    },
    {
     "cell_type": "code",
     "collapsed": false,
     "input": [
      "non_scalar = df[(df[\"accessType\"] == \"metric\") & (df[\"type\"] == \"OBJECT\")]\n",
      "non_scalar"
     ],
     "language": "python",
     "metadata": {},
     "outputs": [
      {
       "html": [
        "<div style=\"max-height:1000px;max-width:1500px;overflow:auto;\">\n",
        "<table border=\"1\" class=\"dataframe\">\n",
        "  <thead>\n",
        "    <tr style=\"text-align: right;\">\n",
        "      <th></th>\n",
        "      <th>address</th>\n",
        "      <th>name</th>\n",
        "      <th>type</th>\n",
        "      <th>valueType</th>\n",
        "      <th>valueTypeDepth</th>\n",
        "      <th>storage</th>\n",
        "      <th>accessType</th>\n",
        "      <th>allowNull</th>\n",
        "      <th>hasDefault</th>\n",
        "      <th>hasAlternatives</th>\n",
        "      <th>hasAliases</th>\n",
        "      <th>isEnum</th>\n",
        "      <th>restartPolicy</th>\n",
        "      <th>deprecated</th>\n",
        "    </tr>\n",
        "  </thead>\n",
        "  <tbody>\n",
        "    <tr>\n",
        "      <th>1855</th>\n",
        "      <td> /core-service=platform-mbean/type=memory-pool/name=*</td>\n",
        "      <td>            peak-usage</td>\n",
        "      <td> OBJECT</td>\n",
        "      <td> OBJECT</td>\n",
        "      <td> 1</td>\n",
        "      <td> runtime</td>\n",
        "      <td> metric</td>\n",
        "      <td> False</td>\n",
        "      <td> False</td>\n",
        "      <td> False</td>\n",
        "      <td> False</td>\n",
        "      <td> False</td>\n",
        "      <td> n/a</td>\n",
        "      <td> False</td>\n",
        "    </tr>\n",
        "    <tr>\n",
        "      <th>1858</th>\n",
        "      <td> /core-service=platform-mbean/type=memory-pool/name=*</td>\n",
        "      <td>                 usage</td>\n",
        "      <td> OBJECT</td>\n",
        "      <td> OBJECT</td>\n",
        "      <td> 1</td>\n",
        "      <td> runtime</td>\n",
        "      <td> metric</td>\n",
        "      <td> False</td>\n",
        "      <td> False</td>\n",
        "      <td> False</td>\n",
        "      <td> False</td>\n",
        "      <td> False</td>\n",
        "      <td> n/a</td>\n",
        "      <td> False</td>\n",
        "    </tr>\n",
        "    <tr>\n",
        "      <th>1861</th>\n",
        "      <td> /core-service=platform-mbean/type=memory-pool/name=*</td>\n",
        "      <td>      collection-usage</td>\n",
        "      <td> OBJECT</td>\n",
        "      <td> OBJECT</td>\n",
        "      <td> 1</td>\n",
        "      <td> runtime</td>\n",
        "      <td> metric</td>\n",
        "      <td>  True</td>\n",
        "      <td> False</td>\n",
        "      <td> False</td>\n",
        "      <td> False</td>\n",
        "      <td> False</td>\n",
        "      <td> n/a</td>\n",
        "      <td> False</td>\n",
        "    </tr>\n",
        "    <tr>\n",
        "      <th>1889</th>\n",
        "      <td>             /core-service=platform-mbean/type=memory</td>\n",
        "      <td> non-heap-memory-usage</td>\n",
        "      <td> OBJECT</td>\n",
        "      <td> OBJECT</td>\n",
        "      <td> 1</td>\n",
        "      <td> runtime</td>\n",
        "      <td> metric</td>\n",
        "      <td> False</td>\n",
        "      <td> False</td>\n",
        "      <td> False</td>\n",
        "      <td> False</td>\n",
        "      <td> False</td>\n",
        "      <td> n/a</td>\n",
        "      <td> False</td>\n",
        "    </tr>\n",
        "    <tr>\n",
        "      <th>1890</th>\n",
        "      <td>             /core-service=platform-mbean/type=memory</td>\n",
        "      <td>     heap-memory-usage</td>\n",
        "      <td> OBJECT</td>\n",
        "      <td> OBJECT</td>\n",
        "      <td> 1</td>\n",
        "      <td> runtime</td>\n",
        "      <td> metric</td>\n",
        "      <td> False</td>\n",
        "      <td> False</td>\n",
        "      <td> False</td>\n",
        "      <td> False</td>\n",
        "      <td> False</td>\n",
        "      <td> n/a</td>\n",
        "      <td> False</td>\n",
        "    </tr>\n",
        "  </tbody>\n",
        "</table>\n",
        "</div>"
       ],
       "metadata": {},
       "output_type": "pyout",
       "prompt_number": 13,
       "text": [
        "                                                   address                   name    type valueType  valueTypeDepth  storage accessType allowNull hasDefault hasAlternatives hasAliases isEnum restartPolicy deprecated\n",
        "1855  /core-service=platform-mbean/type=memory-pool/name=*             peak-usage  OBJECT    OBJECT               1  runtime     metric     False      False           False      False  False           n/a      False\n",
        "1858  /core-service=platform-mbean/type=memory-pool/name=*                  usage  OBJECT    OBJECT               1  runtime     metric     False      False           False      False  False           n/a      False\n",
        "1861  /core-service=platform-mbean/type=memory-pool/name=*       collection-usage  OBJECT    OBJECT               1  runtime     metric      True      False           False      False  False           n/a      False\n",
        "1889              /core-service=platform-mbean/type=memory  non-heap-memory-usage  OBJECT    OBJECT               1  runtime     metric     False      False           False      False  False           n/a      False\n",
        "1890              /core-service=platform-mbean/type=memory      heap-memory-usage  OBJECT    OBJECT               1  runtime     metric     False      False           False      False  False           n/a      False"
       ]
      }
     ],
     "prompt_number": 13
    },
    {
     "cell_type": "markdown",
     "metadata": {},
     "source": [
      "# Common Attribute Meta Data"
     ]
    },
    {
     "cell_type": "code",
     "collapsed": false,
     "input": [
      "plt.figure(figsize=(15, 15), dpi=300)\n",
      "grid = GridSpec(3, 3)\n",
      "\n",
      "def ratio( attName, cond, grid, data=df ):\n",
      "    df_filtered = data[cond(data)]\n",
      "    total = data[\"name\"].count()\n",
      "    match = df_filtered[attName].count()\n",
      "    pct = 100.00/total*match\n",
      "    fracs = [100-pct, pct]\n",
      "\n",
      "    plt.subplot(grid, aspect=1)\n",
      "    plt.title(attName)\n",
      "    plt.pie(fracs,labels=[\"All\",attName],autopct='%.2f')\n",
      "    \n",
      "ratio('hasDefault', lambda data: data['hasDefault'] == True, grid[0, 0] )  \n",
      "ratio('hasAlternatives', lambda data: data['hasAlternatives'] == True, grid[0, 1] )\n",
      "ratio('hasAliases', lambda data: data['hasAliases'] == True, grid[1, 0] )\n",
      "ratio('isEnum', lambda data: data['isEnum'] == True, grid[1,1] )\n",
      "\n",
      "## nillable==true && hasDefault==false (@ctomc)\n",
      "nillable = df[df[\"allowNull\"]==True]\n",
      "ratio('allowNull', lambda data: data['hasDefault'] == False, grid[2, 0], nillable)\n",
      "\n"
     ],
     "language": "python",
     "metadata": {},
     "outputs": [
      {
       "metadata": {},
       "output_type": "display_data",
       "png": "[encoded data removed]",
       "text": [
        "<matplotlib.figure.Figure at 0x11451dc90>"
       ]
      }
     ],
     "prompt_number": 14
    },
    {
     "cell_type": "markdown",
     "metadata": {},
     "source": [
      "# Complex Attributes"
     ]
    },
    {
     "cell_type": "code",
     "collapsed": false,
     "input": [
      "complex_types = df[(df[\"type\"] == \"OBJECT\") | (df[\"type\"] == \"LIST\")]\n",
      "grp = complex_types.groupby(\"type\")\n",
      "grp[\"type\"].count().plot(kind=\"barh\")"
     ],
     "language": "python",
     "metadata": {},
     "outputs": [
      {
       "metadata": {},
       "output_type": "pyout",
       "prompt_number": 15,
       "text": [
        "<matplotlib.axes.AxesSubplot at 0x114669810>"
       ]
      },
      {
       "metadata": {},
       "output_type": "display_data",
       "png": "[encoded data removed]",
       "text": [
        "<matplotlib.figure.Figure at 0x1146e4f50>"
       ]
      }
     ],
     "prompt_number": 15
    },
    {
     "cell_type": "markdown",
     "metadata": {},
     "source": [
      "## Complex Attributes as Map constructs: type=OBJECT, value_type!=OBJECT\n",
      "\n",
      "type=OBJECT, value_type!=OBJECT represents map like data sructures (key, value pairs). The value_type is used as a type parameter for the allowed values.\n",
      "\n",
      "### Can these be repesented like regular map constructs? \n",
      "i.e. `/system-property=*:read-resource-description`"
     ]
    },
    {
     "cell_type": "code",
     "collapsed": false,
     "input": [
      "map_like = df[ (df[\"type\"] == \"OBJECT\") & (df[\"valueType\"] != \"OBJECT\")]\n",
      "map_like.head()"
     ],
     "language": "python",
     "metadata": {},
     "outputs": [
      {
       "html": [
        "<div style=\"max-height:1000px;max-width:1500px;overflow:auto;\">\n",
        "<table border=\"1\" class=\"dataframe\">\n",
        "  <thead>\n",
        "    <tr style=\"text-align: right;\">\n",
        "      <th></th>\n",
        "      <th>address</th>\n",
        "      <th>name</th>\n",
        "      <th>type</th>\n",
        "      <th>valueType</th>\n",
        "      <th>valueTypeDepth</th>\n",
        "      <th>storage</th>\n",
        "      <th>accessType</th>\n",
        "      <th>allowNull</th>\n",
        "      <th>hasDefault</th>\n",
        "      <th>hasAlternatives</th>\n",
        "      <th>hasAliases</th>\n",
        "      <th>isEnum</th>\n",
        "      <th>restartPolicy</th>\n",
        "      <th>deprecated</th>\n",
        "    </tr>\n",
        "  </thead>\n",
        "  <tbody>\n",
        "    <tr>\n",
        "      <th>59</th>\n",
        "      <td>                                           /subsystem=security/vault=classic</td>\n",
        "      <td>         vault-options</td>\n",
        "      <td> OBJECT</td>\n",
        "      <td> STRING</td>\n",
        "      <td> 0</td>\n",
        "      <td> configuration</td>\n",
        "      <td> read-write</td>\n",
        "      <td> True</td>\n",
        "      <td> False</td>\n",
        "      <td> False</td>\n",
        "      <td> False</td>\n",
        "      <td> False</td>\n",
        "      <td> no-services</td>\n",
        "      <td> False</td>\n",
        "    </tr>\n",
        "    <tr>\n",
        "      <th>64</th>\n",
        "      <td> /subsystem=security/security-domain=*/authorization=classic/policy-module=*</td>\n",
        "      <td>        module-options</td>\n",
        "      <td> OBJECT</td>\n",
        "      <td> STRING</td>\n",
        "      <td> 0</td>\n",
        "      <td> configuration</td>\n",
        "      <td> read-write</td>\n",
        "      <td> True</td>\n",
        "      <td> False</td>\n",
        "      <td> False</td>\n",
        "      <td> False</td>\n",
        "      <td> False</td>\n",
        "      <td> no-services</td>\n",
        "      <td> False</td>\n",
        "    </tr>\n",
        "    <tr>\n",
        "      <th>73</th>\n",
        "      <td>                          /subsystem=security/security-domain=*/jsse=classic</td>\n",
        "      <td> additional-properties</td>\n",
        "      <td> OBJECT</td>\n",
        "      <td> STRING</td>\n",
        "      <td> 0</td>\n",
        "      <td> configuration</td>\n",
        "      <td> read-write</td>\n",
        "      <td> True</td>\n",
        "      <td> False</td>\n",
        "      <td> False</td>\n",
        "      <td> False</td>\n",
        "      <td> False</td>\n",
        "      <td> no-services</td>\n",
        "      <td> False</td>\n",
        "    </tr>\n",
        "    <tr>\n",
        "      <th>80</th>\n",
        "      <td>      /subsystem=security/security-domain=*/mapping=classic/mapping-module=*</td>\n",
        "      <td>        module-options</td>\n",
        "      <td> OBJECT</td>\n",
        "      <td> STRING</td>\n",
        "      <td> 0</td>\n",
        "      <td> configuration</td>\n",
        "      <td> read-write</td>\n",
        "      <td> True</td>\n",
        "      <td> False</td>\n",
        "      <td> False</td>\n",
        "      <td> False</td>\n",
        "      <td> False</td>\n",
        "      <td> no-services</td>\n",
        "      <td> False</td>\n",
        "    </tr>\n",
        "    <tr>\n",
        "      <th>83</th>\n",
        "      <td>       /subsystem=security/security-domain=*/audit=classic/provider-module=*</td>\n",
        "      <td>        module-options</td>\n",
        "      <td> OBJECT</td>\n",
        "      <td> STRING</td>\n",
        "      <td> 0</td>\n",
        "      <td> configuration</td>\n",
        "      <td> read-write</td>\n",
        "      <td> True</td>\n",
        "      <td> False</td>\n",
        "      <td> False</td>\n",
        "      <td> False</td>\n",
        "      <td> False</td>\n",
        "      <td> no-services</td>\n",
        "      <td> False</td>\n",
        "    </tr>\n",
        "  </tbody>\n",
        "</table>\n",
        "</div>"
       ],
       "metadata": {},
       "output_type": "pyout",
       "prompt_number": 16,
       "text": [
        "                                                                        address                   name    type valueType  valueTypeDepth        storage  accessType allowNull hasDefault hasAlternatives hasAliases isEnum restartPolicy deprecated\n",
        "59                                            /subsystem=security/vault=classic          vault-options  OBJECT    STRING               0  configuration  read-write      True      False           False      False  False   no-services      False\n",
        "64  /subsystem=security/security-domain=*/authorization=classic/policy-module=*         module-options  OBJECT    STRING               0  configuration  read-write      True      False           False      False  False   no-services      False\n",
        "73                           /subsystem=security/security-domain=*/jsse=classic  additional-properties  OBJECT    STRING               0  configuration  read-write      True      False           False      False  False   no-services      False\n",
        "80       /subsystem=security/security-domain=*/mapping=classic/mapping-module=*         module-options  OBJECT    STRING               0  configuration  read-write      True      False           False      False  False   no-services      False\n",
        "83        /subsystem=security/security-domain=*/audit=classic/provider-module=*         module-options  OBJECT    STRING               0  configuration  read-write      True      False           False      False  False   no-services      False"
       ]
      }
     ],
     "prompt_number": 16
    },
    {
     "cell_type": "markdown",
     "metadata": {},
     "source": [
      "## Combination: type == LIST or type == OBJECT and value_type == OBJECT\n",
      "Attributes of type == LIST or type == OBJECT should only allow simple model types. The combination of type == LIST or type == OBJECT and value_type == OBJECT could be turned into proper child declarations."
     ]
    },
    {
     "cell_type": "code",
     "collapsed": false,
     "input": [
      "notDeprecated = df[\"deprecated\"] == False\n",
      "listType = df[\"type\"] == \"LIST\"\n",
      "objectType = df[\"type\"] == \"OBJECT\"\n",
      "valueType = df[\"valueType\"] == \"OBJECT\"\n",
      "\n",
      "faulty = df[notDeprecated & (listType | objectType) & valueType]\n",
      "faulty_sorted = faulty.sort(columns='valueTypeDepth', ascending=False)\n",
      "faulty_sorted.head()"
     ],
     "language": "python",
     "metadata": {},
     "outputs": [
      {
       "html": [
        "<div style=\"max-height:1000px;max-width:1500px;overflow:auto;\">\n",
        "<table border=\"1\" class=\"dataframe\">\n",
        "  <thead>\n",
        "    <tr style=\"text-align: right;\">\n",
        "      <th></th>\n",
        "      <th>address</th>\n",
        "      <th>name</th>\n",
        "      <th>type</th>\n",
        "      <th>valueType</th>\n",
        "      <th>valueTypeDepth</th>\n",
        "      <th>storage</th>\n",
        "      <th>accessType</th>\n",
        "      <th>allowNull</th>\n",
        "      <th>hasDefault</th>\n",
        "      <th>hasAlternatives</th>\n",
        "      <th>hasAliases</th>\n",
        "      <th>isEnum</th>\n",
        "      <th>restartPolicy</th>\n",
        "      <th>deprecated</th>\n",
        "    </tr>\n",
        "  </thead>\n",
        "  <tbody>\n",
        "    <tr>\n",
        "      <th>1002</th>\n",
        "      <td>  /subsystem=infinispan/cache-container=*/distributed-cache=*/binary-keyed-jdbc-store=BINARY_KEYED_JDBC_STORE</td>\n",
        "      <td> binary-keyed-table</td>\n",
        "      <td> OBJECT</td>\n",
        "      <td> OBJECT</td>\n",
        "      <td> 3</td>\n",
        "      <td> configuration</td>\n",
        "      <td> read-write</td>\n",
        "      <td> True</td>\n",
        "      <td> False</td>\n",
        "      <td> False</td>\n",
        "      <td> False</td>\n",
        "      <td> False</td>\n",
        "      <td> no-services</td>\n",
        "      <td> False</td>\n",
        "    </tr>\n",
        "    <tr>\n",
        "      <th>1060</th>\n",
        "      <td>  /subsystem=infinispan/cache-container=*/distributed-cache=*/string-keyed-jdbc-store=STRING_KEYED_JDBC_STORE</td>\n",
        "      <td> string-keyed-table</td>\n",
        "      <td> OBJECT</td>\n",
        "      <td> OBJECT</td>\n",
        "      <td> 3</td>\n",
        "      <td> configuration</td>\n",
        "      <td> read-write</td>\n",
        "      <td> True</td>\n",
        "      <td> False</td>\n",
        "      <td> False</td>\n",
        "      <td> False</td>\n",
        "      <td> False</td>\n",
        "      <td> no-services</td>\n",
        "      <td> False</td>\n",
        "    </tr>\n",
        "    <tr>\n",
        "      <th>1018</th>\n",
        "      <td>    /subsystem=infinispan/cache-container=*/distributed-cache=*/mixed-keyed-jdbc-store=MIXED_KEYED_JDBC_STORE</td>\n",
        "      <td> binary-keyed-table</td>\n",
        "      <td> OBJECT</td>\n",
        "      <td> OBJECT</td>\n",
        "      <td> 3</td>\n",
        "      <td> configuration</td>\n",
        "      <td> read-write</td>\n",
        "      <td> True</td>\n",
        "      <td> False</td>\n",
        "      <td> False</td>\n",
        "      <td> False</td>\n",
        "      <td> False</td>\n",
        "      <td> no-services</td>\n",
        "      <td> False</td>\n",
        "    </tr>\n",
        "    <tr>\n",
        "      <th>1162</th>\n",
        "      <td> /subsystem=infinispan/cache-container=*/invalidation-cache=*/binary-keyed-jdbc-store=BINARY_KEYED_JDBC_STORE</td>\n",
        "      <td> binary-keyed-table</td>\n",
        "      <td> OBJECT</td>\n",
        "      <td> OBJECT</td>\n",
        "      <td> 3</td>\n",
        "      <td> configuration</td>\n",
        "      <td> read-write</td>\n",
        "      <td> True</td>\n",
        "      <td> False</td>\n",
        "      <td> False</td>\n",
        "      <td> False</td>\n",
        "      <td> False</td>\n",
        "      <td> no-services</td>\n",
        "      <td> False</td>\n",
        "    </tr>\n",
        "    <tr>\n",
        "      <th>922 </th>\n",
        "      <td>        /subsystem=infinispan/cache-container=*/local-cache=*/string-keyed-jdbc-store=STRING_KEYED_JDBC_STORE</td>\n",
        "      <td> string-keyed-table</td>\n",
        "      <td> OBJECT</td>\n",
        "      <td> OBJECT</td>\n",
        "      <td> 3</td>\n",
        "      <td> configuration</td>\n",
        "      <td> read-write</td>\n",
        "      <td> True</td>\n",
        "      <td> False</td>\n",
        "      <td> False</td>\n",
        "      <td> False</td>\n",
        "      <td> False</td>\n",
        "      <td> no-services</td>\n",
        "      <td> False</td>\n",
        "    </tr>\n",
        "  </tbody>\n",
        "</table>\n",
        "</div>"
       ],
       "metadata": {},
       "output_type": "pyout",
       "prompt_number": 17,
       "text": [
        "                                                                                                           address                name    type valueType  valueTypeDepth        storage  accessType allowNull hasDefault hasAlternatives hasAliases isEnum restartPolicy deprecated\n",
        "1002   /subsystem=infinispan/cache-container=*/distributed-cache=*/binary-keyed-jdbc-store=BINARY_KEYED_JDBC_STORE  binary-keyed-table  OBJECT    OBJECT               3  configuration  read-write      True      False           False      False  False   no-services      False\n",
        "1060   /subsystem=infinispan/cache-container=*/distributed-cache=*/string-keyed-jdbc-store=STRING_KEYED_JDBC_STORE  string-keyed-table  OBJECT    OBJECT               3  configuration  read-write      True      False           False      False  False   no-services      False\n",
        "1018     /subsystem=infinispan/cache-container=*/distributed-cache=*/mixed-keyed-jdbc-store=MIXED_KEYED_JDBC_STORE  binary-keyed-table  OBJECT    OBJECT               3  configuration  read-write      True      False           False      False  False   no-services      False\n",
        "1162  /subsystem=infinispan/cache-container=*/invalidation-cache=*/binary-keyed-jdbc-store=BINARY_KEYED_JDBC_STORE  binary-keyed-table  OBJECT    OBJECT               3  configuration  read-write      True      False           False      False  False   no-services      False\n",
        "922          /subsystem=infinispan/cache-container=*/local-cache=*/string-keyed-jdbc-store=STRING_KEYED_JDBC_STORE  string-keyed-table  OBJECT    OBJECT               3  configuration  read-write      True      False           False      False  False   no-services      False"
       ]
      }
     ],
     "prompt_number": 17
    },
    {
     "cell_type": "code",
     "collapsed": false,
     "input": [],
     "language": "python",
     "metadata": {},
     "outputs": [],
     "prompt_number": 17
    }
   ],
   "metadata": {}
  }
 ]
}